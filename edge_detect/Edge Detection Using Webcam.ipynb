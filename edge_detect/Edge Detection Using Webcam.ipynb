{
 "cells": [
  {
   "cell_type": "code",
   "execution_count": 1,
   "id": "fc3d9e69",
   "metadata": {},
   "outputs": [],
   "source": [
    "import matplotlib.image as mpimg\n",
    "import matplotlib.pyplot as plt\n",
    "import numpy as np\n",
    "import cv2"
   ]
  },
  {
   "cell_type": "code",
   "execution_count": 2,
   "id": "b907c45d",
   "metadata": {},
   "outputs": [],
   "source": [
    "def gaussian_filter(image_color, k_size=5):\n",
    "    #gray scale\n",
    "    image_gray = cv2.cvtColor(image_color, cv2.COLOR_BGR2GRAY)\n",
    "    gaussian   = cv2.GaussianBlur(image_gray,(k_size,k_size), cv2.BORDER_DEFAULT)\n",
    "    \n",
    "    return gaussian"
   ]
  },
  {
   "cell_type": "code",
   "execution_count": 3,
   "id": "7a8f9d53",
   "metadata": {},
   "outputs": [],
   "source": [
    "def median_filter(image_color, k_size=5): #good to deal with Salt & Pepper\n",
    "    #gray scale\n",
    "    image_gray = cv2.cvtColor(image_color, cv2.COLOR_BGR2GRAY)\n",
    "    median     = cv2.medianBlur(image_gray, k_size)\n",
    "    \n",
    "    return median"
   ]
  },
  {
   "cell_type": "code",
   "execution_count": 4,
   "id": "245ded88",
   "metadata": {},
   "outputs": [],
   "source": [
    "def bilateral_filter(image_color,k_size=15,s_color=80,s_space=80): #Spatial and Range kernels\n",
    "    #gray scale\n",
    "    image_gray = cv2.cvtColor(image_color, cv2.COLOR_BGR2GRAY)\n",
    "    bilateral  = cv2.bilateralFilter(image_gray,k_size,s_color,s_space)\n",
    "    \n",
    "    return bilateral"
   ]
  },
  {
   "cell_type": "code",
   "execution_count": 5,
   "id": "98879b23",
   "metadata": {},
   "outputs": [],
   "source": [
    "# def joint_bilateral_filter(image_color):"
   ]
  },
  {
   "cell_type": "code",
   "execution_count": 6,
   "id": "449a8cb1",
   "metadata": {},
   "outputs": [],
   "source": [
    "# def guided_image_filter(image_color):"
   ]
  },
  {
   "cell_type": "code",
   "execution_count": 7,
   "id": "d5f76e4e",
   "metadata": {},
   "outputs": [],
   "source": [
    "def find_gradients_n_direction(x_sobel, y_sobel):\n",
    "    #gradient\n",
    "    G = np.hypot(x_sobel, y_sobel)\n",
    "    G = G/ G.max() * 255\n",
    "    #direction\n",
    "    D = np.arctan2(x_sobel, y_sobel)\n",
    "    \n",
    "    return (G, D)"
   ]
  },
  {
   "cell_type": "code",
   "execution_count": 8,
   "id": "f625ea0b",
   "metadata": {},
   "outputs": [],
   "source": [
    "def non_maximum_suppression(image, D): #image, direction\n",
    "    M, N = image.shape\n",
    "    Z = np.zeros((M,N), dtype=np.int32)\n",
    "    #angle\n",
    "    A = D * 180. / np.pi\n",
    "    A[A < 0] += 180\n",
    "    \n",
    "    #calcultation: avoid the edge \n",
    "    for i in range(1, M-1):\n",
    "        for j in range(1, N-1):\n",
    "            try: \n",
    "                q = 255\n",
    "                r = 255\n",
    "                \n",
    "                #angle 0\n",
    "                if (0 <= A[i,j] < 22.5) or (157.5 <= A[i,j] <= 180):\n",
    "                    q = image[i, j+1]\n",
    "                    r = image[i, j-1]\n",
    "                #angle 45\n",
    "                elif (22.5 <= A[i,j] < 67.5):\n",
    "                    q = image[i+1, j-1]\n",
    "                    r = image[i-1, j+1]\n",
    "                #angle 90\n",
    "                elif (67.5 <= A[i,j] < 112.5):\n",
    "                    q = image[i+1, j]\n",
    "                    r = image[i-1, j]\n",
    "                #angle 135\n",
    "                elif (112.5 <= A[i,j] < 157.5):\n",
    "                    q = image[i-1, j-1]\n",
    "                    r = image[i+1, j+1]\n",
    "                    \n",
    "                #non maximum suppression\n",
    "                if(image[i,j]>=q) and (image[i,j]>=r):\n",
    "                    Z[i,j] = image[i,j]\n",
    "                else:\n",
    "                    Z[i,j] = 0\n",
    "            \n",
    "            except IndexError as e: #???\n",
    "                pass\n",
    "    \n",
    "    return Z.astype(np.uint8)"
   ]
  },
  {
   "cell_type": "code",
   "execution_count": 9,
   "id": "07789c53",
   "metadata": {},
   "outputs": [],
   "source": [
    "def double_threshold(image, low_TH_ratio=0.05, high_TH_ratio=0.09):\n",
    "    \n",
    "    high_TH = image.max() * high_TH_ratio\n",
    "    low_TH  = high_TH * low_TH_ratio\n",
    "    \n",
    "    M, N = image.shape\n",
    "    R = np.zeros((M, N), dtype=np.int32)\n",
    "    \n",
    "    #weak and strong edge pixel values\n",
    "    weak   = np.int32(25)\n",
    "    strong = np.int32(255)\n",
    "    \n",
    "    strong_i, strong_j = np.where(image >= high_TH)\n",
    "    zeros_i, zeros_j = np.where(image < low_TH)\n",
    "    weak_i, weak_j = np.where((image < high_TH) & (image >= low_TH))\n",
    "    \n",
    "    R[strong_i, strong_j] = strong\n",
    "    R[weak_i, weak_j] = weak\n",
    "    \n",
    "    return(R, weak, strong)"
   ]
  },
  {
   "cell_type": "code",
   "execution_count": 10,
   "id": "a7d4c35c",
   "metadata": {},
   "outputs": [],
   "source": [
    "def hysteresis(image, weak=25, strong=255):\n",
    "    M, N = image.shape\n",
    "    \n",
    "    #avoid the edge\n",
    "    for i in range(1, M-1):\n",
    "        for j in range(1, N-1):\n",
    "            if(image[i,j] == weak):\n",
    "                try:\n",
    "                    if((image[i+1,j-1]==strong)or(image[i+1,j]==strong)or(image[i+1,j+1]==strong)\n",
    "                       or(image[i,j-1]==strong)or(image[i,j+1]==strong)\n",
    "                      or(image[i-1,j-1]==strong)or(image[i-1,j]==strong)or(image[i-1,j+1]==strong)):\n",
    "                        image[i, j] = strong\n",
    "                    else:\n",
    "                        image[i, j] = 0\n",
    "                \n",
    "                except IndexError as e: #??\n",
    "                    pass\n",
    "    \n",
    "    return image.astype(np.uint8)\n",
    "    \n",
    "    "
   ]
  },
  {
   "cell_type": "code",
   "execution_count": 11,
   "id": "e63c6c4d",
   "metadata": {},
   "outputs": [],
   "source": [
    "def canny(image_color):\n",
    "    threshold_1 = 30\n",
    "    threshold_2 = 80\n",
    "    image_gray = cv2.cvtColor(image_color, cv2.COLOR_BGR2GRAY)\n",
    "    canny = cv2.Canny(image_gray, threshold_1, threshold_2)\n",
    "    \n",
    "    return canny\n",
    "\n"
   ]
  },
  {
   "cell_type": "code",
   "execution_count": 12,
   "id": "80f0ffc5",
   "metadata": {},
   "outputs": [],
   "source": [
    "def laplace(image_color):\n",
    "    image_gray = cv2.cvtColor(image_color, cv2.COLOR_BGR2GRAY)\n",
    "    laplacian = cv2.Laplacian(image_gray, cv2.CV_64F)\n",
    "    \n",
    "    return laplacian"
   ]
  },
  {
   "cell_type": "code",
   "execution_count": 13,
   "id": "a44f2046",
   "metadata": {},
   "outputs": [],
   "source": [
    "def sobel_x(image_gray, kernel_size=7):\n",
    "#     image_gray = cv2.cvtColor(image_color, cv2.COLOR_BGR2GRAY)\n",
    "    x_sobel = cv2.Sobel(image_gray, cv2.CV_64F, 1, 0, ksize = kernel_size)\n",
    "    \n",
    "    return x_sobel"
   ]
  },
  {
   "cell_type": "code",
   "execution_count": 14,
   "id": "978d3cc1",
   "metadata": {},
   "outputs": [],
   "source": [
    "def sobel_y(image_gray, kernel_size=7):\n",
    "#     image_gray = cv2.cvtColor(image_color, cv2.COLOR_BGR2GRAY)\n",
    "    y_sobel = cv2.Sobel(image_gray, cv2.CV_64F, 0, 1, ksize = kernel_size)\n",
    "    \n",
    "    return y_sobel"
   ]
  },
  {
   "cell_type": "code",
   "execution_count": 15,
   "id": "74ffc087",
   "metadata": {},
   "outputs": [],
   "source": [
    "def whole_process(img):\n",
    "    x_sobel      = sobel_x(img)\n",
    "    y_sobel      = sobel_y(img)\n",
    "    \n",
    "    #find the gradients \n",
    "    grads, directions = find_gradients_n_direction(x_sobel, y_sobel)\n",
    "\n",
    "    #non-maximum suppression\n",
    "    non_max_out  = non_maximum_suppression(grads, directions)\n",
    "\n",
    "    #double threshold\n",
    "    threshold_out, weak, strong= double_threshold(non_max_out)\n",
    "\n",
    "    #hysteresis\n",
    "    result       = hysteresis(threshold_out, weak, strong)\n",
    "    \n",
    "    return result"
   ]
  },
  {
   "cell_type": "code",
   "execution_count": 16,
   "id": "abcfb9f2",
   "metadata": {},
   "outputs": [],
   "source": [
    "#Main Function\n",
    "\n",
    "if __name__ == \"__main__\":\n",
    "    \n",
    "    me  = cv2.imread(\"canny.jpeg\")\n",
    "#     cv2.imshow('ME', me)\n",
    "    \n",
    "    Gaussian_ = gaussian_filter(me)\n",
    "\n",
    "    x_sobel = sobel_x(Gaussian_)\n",
    "    y_sobel = sobel_y(Gaussian_)\n",
    "\n",
    "    Gradients_, Directions_ = find_gradients_n_direction(x_sobel, y_sobel)\n",
    "    \n",
    "    Non_max_sup = non_maximum_suppression(Gradients_, Directions_)\n",
    "    \n",
    "    cv2.imshow('Non-Maximum Suppression', Non_max_sup)\n",
    "    \n",
    "             \n",
    "    cv2.waitKey()\n",
    "    cv2.destroyAllWindows()\n",
    "    \n",
    "#     while True:\n",
    "#         ret, frame = cap.read() # Cap.read() returns a ret bool to indicate success.\n",
    "# #         cv2.imshow('Live Edge Detection', canny(frame))\n",
    "# #         frame = cv2.imread('tmp.JPG')\n",
    "        \n",
    "#         gaussian_out = whole_process(gaussian_filter(frame))\n",
    "#         median_out   = whole_process(median_filter(frame))\n",
    "#         bilateral_out= whole_process(bilateral_filter(frame))\n",
    "        \n",
    "#         #show image\n",
    "# #         cv2.imshow('Gaussian', gaussian_out)\n",
    "# #         cv2.imshow('Median', median_out)\n",
    "# #         cv2.imshow('Bilateral', bilateral_out)\n",
    "#         cv2.imshow('Canny', canny(frame))\n",
    "        \n",
    "#         #real frame\n",
    "# #         cv2.imshow('Webcam Video', frame)\n",
    "#         if cv2.waitKey(1) == 13: #13 Enter Key\n",
    "#             break\n",
    "\n",
    "#     cap.release() # camera release \n",
    "#     cv2.destroyAllWindows()   \n",
    "    "
   ]
  },
  {
   "cell_type": "code",
   "execution_count": null,
   "id": "17fa1aa9",
   "metadata": {},
   "outputs": [],
   "source": []
  }
 ],
 "metadata": {
  "kernelspec": {
   "display_name": "Python 3",
   "language": "python",
   "name": "python3"
  },
  "language_info": {
   "codemirror_mode": {
    "name": "ipython",
    "version": 3
   },
   "file_extension": ".py",
   "mimetype": "text/x-python",
   "name": "python",
   "nbconvert_exporter": "python",
   "pygments_lexer": "ipython3",
   "version": "3.8.8"
  }
 },
 "nbformat": 4,
 "nbformat_minor": 5
}
