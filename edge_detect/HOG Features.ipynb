{
 "cells": [
  {
   "cell_type": "code",
   "execution_count": null,
   "id": "6cbb47d2",
   "metadata": {},
   "outputs": [],
   "source": [
    "import cv2\n",
    "import numpy as np\n",
    "import matplotlib.image as mpimg\n",
    "from matplotlib import pyplot as plt\n",
    "from skimage.feature import hog # The Histogram of Oriented Gradient (HOG)"
   ]
  },
  {
   "cell_type": "code",
   "execution_count": null,
   "id": "30624360",
   "metadata": {},
   "outputs": [],
   "source": [
    "image_color = cv2.imread('ed_sheeran.jpg')\n",
    "cv2.imshow('Ed Sheeran', image_color)\n",
    "cv2.waitKey()\n",
    "cv2.destroyAllWindows()"
   ]
  },
  {
   "cell_type": "code",
   "execution_count": null,
   "id": "5554d58f",
   "metadata": {},
   "outputs": [],
   "source": [
    "image_gray = cv2.cvtColor(image_color, cv2.COLOR_BGR2GRAY)\n",
    "plt.imshow(image_gray, cmap = 'gray')"
   ]
  },
  {
   "cell_type": "code",
   "execution_count": null,
   "id": "2fe1f700",
   "metadata": {},
   "outputs": [],
   "source": [
    "image_gray.shape"
   ]
  },
  {
   "cell_type": "code",
   "execution_count": null,
   "id": "ad994708",
   "metadata": {},
   "outputs": [],
   "source": [
    "# Histogram of Orienter Gradient \n",
    "# TBD: parameters!!\n",
    "features, hog_image = hog(image_gray, \n",
    "                                   orientations = 9, \n",
    "                                   pixels_per_cell = (8, 8), \n",
    "                                   cells_per_block = (1, 1), \n",
    "                                   transform_sqrt = False, \n",
    "                                   visualize = True, \n",
    "                                   feature_vector = False)\n",
    "\n",
    "features.shape"
   ]
  },
  {
   "cell_type": "code",
   "execution_count": null,
   "id": "6b059094",
   "metadata": {},
   "outputs": [],
   "source": [
    "features[30, 30, :]"
   ]
  },
  {
   "cell_type": "code",
   "execution_count": null,
   "id": "4c284514",
   "metadata": {},
   "outputs": [],
   "source": [
    "hog_image.shape"
   ]
  },
  {
   "cell_type": "code",
   "execution_count": null,
   "id": "1b8e8cda",
   "metadata": {},
   "outputs": [],
   "source": [
    "# Return image after stretching or shrinking its intensity levels.\n",
    "from skimage import exposure\n",
    "\n",
    "hog_image_rescaled = exposure.rescale_intensity(hog_image, in_range=(0, 2))"
   ]
  },
  {
   "cell_type": "code",
   "execution_count": null,
   "id": "b560017d",
   "metadata": {},
   "outputs": [],
   "source": [
    "plt.figure()    \n",
    "plt.imshow(hog_image_rescaled, cmap = 'gray')\n",
    "plt.title('HOG Features')"
   ]
  }
 ],
 "metadata": {
  "kernelspec": {
   "display_name": "Python 3",
   "language": "python",
   "name": "python3"
  },
  "language_info": {
   "codemirror_mode": {
    "name": "ipython",
    "version": 3
   },
   "file_extension": ".py",
   "mimetype": "text/x-python",
   "name": "python",
   "nbconvert_exporter": "python",
   "pygments_lexer": "ipython3",
   "version": "3.8.8"
  }
 },
 "nbformat": 4,
 "nbformat_minor": 5
}
