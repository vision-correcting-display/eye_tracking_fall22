{
 "cells": [
  {
   "cell_type": "code",
   "execution_count": 1,
   "id": "9df8468d",
   "metadata": {},
   "outputs": [],
   "source": [
    "import matplotlib.image as mpimg\n",
    "import matplotlib.pyplot as plt\n",
    "import numpy as np\n",
    "\n",
    "import cv2"
   ]
  },
  {
   "cell_type": "code",
   "execution_count": 2,
   "id": "3a0e00c3",
   "metadata": {},
   "outputs": [],
   "source": [
    "ed  = cv2.imread('ed_sheeran.jpg')\n",
    "jay = cv2.imread('jay_chou.jpg')\n",
    "me  = cv2.imread(\"canny.jpeg\") \n",
    "\n",
    "cv2.imshow('ME', me)\n",
    "\n",
    "# cv2.waitKey()\n",
    "# cv2.destroyAllWindows()"
   ]
  },
  {
   "cell_type": "code",
   "execution_count": 3,
   "id": "f3d8defb",
   "metadata": {},
   "outputs": [
    {
     "data": {
      "text/plain": [
       "(300, 300, 3)"
      ]
     },
     "execution_count": 3,
     "metadata": {},
     "output_type": "execute_result"
    }
   ],
   "source": [
    "ed.shape"
   ]
  },
  {
   "cell_type": "code",
   "execution_count": 4,
   "id": "4bf21350",
   "metadata": {},
   "outputs": [],
   "source": [
    "gray_ed = cv2.cvtColor(me, cv2.COLOR_BGR2GRAY)\n",
    "cv2.imshow(\"Gray Ed Sheeran\", gray_ed)\n"
   ]
  },
  {
   "cell_type": "code",
   "execution_count": 5,
   "id": "300371e1",
   "metadata": {},
   "outputs": [],
   "source": [
    "#Sobel X\n",
    "\n",
    "x_sobel_3 = cv2.Sobel(gray_ed, cv2.CV_64F, dx=1, dy=0, ksize=3)\n",
    "x_sobel_5 = cv2.Sobel(gray_ed, cv2.CV_64F, dx=1, dy=0, ksize=5)\n",
    "x_sobel_7 = cv2.Sobel(gray_ed, cv2.CV_64F, dx=1, dy=0, ksize=7)\n",
    "\n",
    "cv2.imshow('Sobel_X_3', x_sobel_3) \n",
    "cv2.imshow('Sobel_X_5', x_sobel_5)\n",
    "cv2.imshow('Sobel_X_7', x_sobel_7)\n",
    "         \n",
    "cv2.waitKey()\n",
    "cv2.destroyAllWindows()"
   ]
  },
  {
   "cell_type": "code",
   "execution_count": 6,
   "id": "87152684",
   "metadata": {},
   "outputs": [],
   "source": [
    "#Sobel Y\n",
    "y_sobel_3 = cv2.Sobel(gray_ed, cv2.CV_64F, dx=0, dy=1, ksize=3)\n",
    "y_sobel_5 = cv2.Sobel(gray_ed, cv2.CV_64F, dx=0, dy=1, ksize=5)\n",
    "y_sobel_7 = cv2.Sobel(gray_ed, cv2.CV_64F, dx=0, dy=1, ksize=7)\n",
    "\n",
    "cv2.imshow('Sobel_Y_3', y_sobel_3) \n",
    "cv2.imshow('Sobel_Y_5', y_sobel_5)\n",
    "cv2.imshow('Sobel_Y_7', y_sobel_7)\n",
    "         \n",
    "cv2.waitKey()\n",
    "cv2.destroyAllWindows()\n",
    "\n",
    "#Sobel X & Y\n",
    "sobel_3 = cv2.Sobel(gray_ed, cv2.CV_64F, dx=1, dy=1, ksize=3)\n",
    "sobel_5 = cv2.Sobel(gray_ed, cv2.CV_64F, dx=1, dy=1, ksize=5)\n",
    "sobel_7 = cv2.Sobel(gray_ed, cv2.CV_64F, dx=1, dy=1, ksize=7)\n",
    "\n",
    "cv2.imshow('Sobel_3', sobel_3) \n",
    "cv2.imshow('Sobel_5', sobel_5)\n",
    "cv2.imshow('Sobel_7', sobel_7)\n",
    "         \n",
    "cv2.waitKey()\n",
    "cv2.destroyAllWindows()\n"
   ]
  },
  {
   "cell_type": "code",
   "execution_count": 7,
   "id": "985bebe4",
   "metadata": {},
   "outputs": [],
   "source": [
    "#Laplacian\n",
    "\n",
    "laplacian = cv2.Laplacian(gray_ed, cv2.CV_64F)\n",
    "cv2.imshow('Laplacian', laplacian)\n",
    "cv2.waitKey()\n",
    "cv2.destroyAllWindows()"
   ]
  },
  {
   "cell_type": "code",
   "execution_count": 8,
   "id": "32ca8c90",
   "metadata": {},
   "outputs": [],
   "source": [
    "#Canny\n",
    "threshold_1 = 120\n",
    "threshold_2 = 200\n",
    "\n",
    "\n",
    "canny = cv2.Canny(gray_ed, threshold_1, threshold_2)\n",
    "\n",
    "cv2.imshow('Canny', canny)\n",
    "cv2.waitKey()\n",
    "cv2.destroyAllWindows()"
   ]
  }
 ],
 "metadata": {
  "kernelspec": {
   "display_name": "Python 3",
   "language": "python",
   "name": "python3"
  },
  "language_info": {
   "codemirror_mode": {
    "name": "ipython",
    "version": 3
   },
   "file_extension": ".py",
   "mimetype": "text/x-python",
   "name": "python",
   "nbconvert_exporter": "python",
   "pygments_lexer": "ipython3",
   "version": "3.8.8"
  }
 },
 "nbformat": 4,
 "nbformat_minor": 5
}
