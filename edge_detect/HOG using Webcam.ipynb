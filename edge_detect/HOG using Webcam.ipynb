{
 "cells": [
  {
   "cell_type": "code",
   "execution_count": 1,
   "id": "736b4922",
   "metadata": {},
   "outputs": [],
   "source": [
    "import cv2\n",
    "import numpy as np\n",
    "import matplotlib.image as mpimg\n",
    "from matplotlib import pyplot as plt\n",
    "from skimage import exposure\n",
    "from skimage.feature import hog # The Histogram of Oriented Gradient (HOG)"
   ]
  },
  {
   "cell_type": "code",
   "execution_count": 2,
   "id": "da1c1654",
   "metadata": {},
   "outputs": [],
   "source": [
    "def HOG_feature(image_color):\n",
    "    image_gray = cv2.cvtColor(image_color, cv2.COLOR_BGR2GRAY)\n",
    "    features, hog_image = hog(image_gray, \n",
    "                                   orientations = 9, \n",
    "                                   pixels_per_cell = (8, 8), \n",
    "                                   cells_per_block = (1, 1), \n",
    "                                   transform_sqrt = False, \n",
    "                                   visualize = True, \n",
    "                                   feature_vector = False)\n",
    "    \n",
    "\n",
    "    hog_image_rescaled = exposure.rescale_intensity(hog_image, in_range=(0, 2))\n",
    "    \n",
    "    return hog_image_rescaled"
   ]
  },
  {
   "cell_type": "code",
   "execution_count": null,
   "id": "1781307e",
   "metadata": {},
   "outputs": [],
   "source": [
    "#Main Function\n",
    "if __name__ == \"__main__\":\n",
    "    cap = cv2.VideoCapture(0)\n",
    "\n",
    "    while True:\n",
    "        ret, frame = cap.read() # Cap.read() returns a ret bool to indicate success.\n",
    "        cv2.imshow('Live HOG Feature', HOG_feature(frame))\n",
    "        cv2.imshow('Webcam Video', frame)\n",
    "        if cv2.waitKey(1) == 13: #13 Enter Key\n",
    "            break\n",
    "\n",
    "    cap.release() # camera release \n",
    "    cv2.destroyAllWindows()   \n",
    "    "
   ]
  }
 ],
 "metadata": {
  "kernelspec": {
   "display_name": "Python 3",
   "language": "python",
   "name": "python3"
  },
  "language_info": {
   "codemirror_mode": {
    "name": "ipython",
    "version": 3
   },
   "file_extension": ".py",
   "mimetype": "text/x-python",
   "name": "python",
   "nbconvert_exporter": "python",
   "pygments_lexer": "ipython3",
   "version": "3.8.8"
  }
 },
 "nbformat": 4,
 "nbformat_minor": 5
}
